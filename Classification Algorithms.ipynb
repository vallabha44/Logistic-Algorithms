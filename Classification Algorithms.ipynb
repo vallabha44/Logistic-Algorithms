{
 "cells": [
  {
   "cell_type": "markdown",
   "metadata": {},
   "source": [
    "# Logistic Regression"
   ]
  },
  {
   "cell_type": "code",
   "execution_count": 53,
   "metadata": {},
   "outputs": [
    {
     "name": "stdout",
     "output_type": "stream",
     "text": [
      "score 0.9230769230769231\n",
      "Accuracy 92.3076923076923\n",
      "Confusion matrix [[ 8  3]\n",
      " [ 0 28]]\n"
     ]
    }
   ],
   "source": [
    "import pandas as pd\n",
    "import numpy as np\n",
    "import matplotlib.pyplot as plt\n",
    "from sklearn.linear_model import LogisticRegression\n",
    "from sklearn.model_selection import train_test_split\n",
    "from sklearn.metrics import confusion_matrix\n",
    "from sklearn import metrics\n",
    "\n",
    "df = pd.read_csv('prankistons.csv')\n",
    "df.head()\n",
    "\n",
    "x = df.iloc[:,1:-1]\n",
    "y = df.iloc[:,-1]\n",
    "\n",
    "x_train , x_test ,y_train ,y_test = train_test_split(x,y,test_size=0.2,random_state=9)\n",
    "\n",
    "from sklearn.preprocessing import StandardScaler\n",
    "sr = StandardScaler()\n",
    "x_train = sr.fit_transform(x_train)\n",
    "x_test = sr.fit_transform(x_test)\n",
    "\n",
    "lr = LogisticRegression()\n",
    "lr.fit(x_train,y_train)\n",
    "\n",
    "y_pred = lr.predict(x_test)\n",
    "\n",
    "\n",
    "print('score',lr.score(x_test,y_test))\n",
    "print('Accuracy',metrics.accuracy_score(y_test,y_pred)*100)\n",
    "print('Confusion matrix',metrics.confusion_matrix(y_test,y_pred))\n",
    "\n"
   ]
  },
  {
   "cell_type": "markdown",
   "metadata": {},
   "source": [
    "# Decision Tree"
   ]
  },
  {
   "cell_type": "code",
   "execution_count": 62,
   "metadata": {},
   "outputs": [
    {
     "name": "stdout",
     "output_type": "stream",
     "text": [
      "Score :  0.8974358974358975\n",
      "Accuracy :  89.74358974358975\n",
      "Confusion matrix :  [[ 7  3]\n",
      " [ 1 28]]\n"
     ]
    }
   ],
   "source": [
    "import pandas as pd\n",
    "import numpy as np\n",
    "from sklearn.model_selection import train_test_split\n",
    "from sklearn.tree import DecisionTreeClassifier\n",
    "from sklearn.metrics import confusion_matrix\n",
    "from sklearn import metrics, tree\n",
    "dt = pd.read_csv('prankistons.csv')\n",
    "#dt.head()\n",
    "x = dt.iloc[:,1:-1]\n",
    "y = dt.iloc[:,-1]\n",
    "\n",
    "x_train , x_test , y_train , y_test = train_test_split(x,y,test_size=0.2,random_state=0)\n",
    "\n",
    "dt = tree.DecisionTreeClassifier(criterion='entropy',max_depth=2,random_state=0)\n",
    "dt.fit(x_train,y_train)\n",
    "y_pred = dt.predict(x_test)\n",
    "\n",
    "print('Score : ',dt.score(x_test,y_test))\n",
    "print('Accuracy : ',metrics.accuracy_score(y_test,y_pred)*100)\n",
    "print('Confusion matrix : ',metrics.confusion_matrix(y_test,y_pred))"
   ]
  },
  {
   "cell_type": "markdown",
   "metadata": {},
   "source": [
    "# SVM"
   ]
  },
  {
   "cell_type": "code",
   "execution_count": 83,
   "metadata": {},
   "outputs": [
    {
     "name": "stdout",
     "output_type": "stream",
     "text": [
      "Score :  0.8717948717948718\n",
      "Accuracy :  0.8717948717948718\n",
      "Confusion Matrix :  [[ 3  4]\n",
      " [ 1 31]]\n"
     ]
    }
   ],
   "source": [
    "import pandas as pd\n",
    "import numpy as np\n",
    "from sklearn.model_selection import train_test_split\n",
    "from sklearn.svm import SVC\n",
    "from sklearn.metrics import confusion_matrix\n",
    "from sklearn import metrics\n",
    "\n",
    "de = pd.read_csv('prankistons.csv')\n",
    "x = de.iloc[:,1:-1]\n",
    "y = de.iloc[:,-1]\n",
    "#de.head()\n",
    "x_train, x_test, y_train, y_test = train_test_split(x,y,test_size=0.2,random_state=3)\n",
    "sv = SVC()\n",
    "sv.fit(x_train,y_train)\n",
    "y_pred = sv.predict(x_test)\n",
    "\n",
    "print('Score : ',sv.score(x_test,y_test))\n",
    "print('Accuracy : ',metrics.accuracy_score(y_test,y_pred))\n",
    "print('Confusion Matrix : ',metrics.confusion_matrix(y_test,y_pred))"
   ]
  },
  {
   "cell_type": "markdown",
   "metadata": {},
   "source": [
    "# KNN"
   ]
  },
  {
   "cell_type": "code",
   "execution_count": 95,
   "metadata": {},
   "outputs": [
    {
     "name": "stdout",
     "output_type": "stream",
     "text": [
      "Score :  0.8974358974358975\n",
      "Accuracy :  0.8974358974358975\n",
      "Confusion Matrix :  [[ 7  3]\n",
      " [ 1 28]]\n"
     ]
    }
   ],
   "source": [
    "import pandas as pd\n",
    "import numpy as np\n",
    "from sklearn.model_selection import train_test_split\n",
    "from sklearn.neighbors import KNeighborsClassifier\n",
    "from sklearn.metrics import confusion_matrix\n",
    "from sklearn import metrics\n",
    "\n",
    "da = pd.read_csv('prankistons.csv')\n",
    "x = da.iloc[:,1:-1]\n",
    "y = da.iloc[:,-1]\n",
    "#da.head()\n",
    "x_train, x_test, y_train, y_test = train_test_split(x,y,test_size=0.2,random_state=0)\n",
    "n = KNeighborsClassifier(n_neighbors=5,metric='euclidean')\n",
    "n.fit(x_train,y_train)\n",
    "y_pred = n.predict(x_test)\n",
    "\n",
    "print('Score : ',n.score(x_test,y_test))\n",
    "print('Accuracy : ',metrics.accuracy_score(y_test,y_pred))\n",
    "print('Confusion Matrix : ',metrics.confusion_matrix(y_test,y_pred))"
   ]
  },
  {
   "cell_type": "markdown",
   "metadata": {},
   "source": [
    "# Random Forest"
   ]
  },
  {
   "cell_type": "code",
   "execution_count": 99,
   "metadata": {},
   "outputs": [
    {
     "name": "stdout",
     "output_type": "stream",
     "text": [
      "Score :  0.9230769230769231\n",
      "Accuracy :  0.9230769230769231\n",
      "Confusion Matrix :  [[10  0]\n",
      " [ 3 26]]\n"
     ]
    }
   ],
   "source": [
    "import pandas as pd\n",
    "import numpy as np\n",
    "from sklearn.model_selection import train_test_split\n",
    "from sklearn.ensemble import RandomForestClassifier\n",
    "from sklearn.metrics import confusion_matrix\n",
    "from sklearn import metrics\n",
    "\n",
    "db = pd.read_csv('prankistons.csv')\n",
    "x = db.iloc[:,1:-1]\n",
    "y = db.iloc[:,-1]\n",
    "\n",
    "x_train, x_test, y_train, y_test = train_test_split(x,y,test_size=0.2,random_state=0)\n",
    "\n",
    "rf = RandomForestClassifier(n_estimators=5, random_state=0)\n",
    "rf.fit(x_train,y_train)\n",
    "y_pred = rf.predict(x_test)\n",
    "\n",
    "print('Score : ',rf.score(x_test,y_test))\n",
    "print('Accuracy : ',metrics.accuracy_score(y_test,y_pred))\n",
    "print('Confusion Matrix : ',metrics.confusion_matrix(y_test,y_pred))"
   ]
  },
  {
   "cell_type": "markdown",
   "metadata": {},
   "source": [
    "# Naive Bayes"
   ]
  },
  {
   "cell_type": "code",
   "execution_count": 115,
   "metadata": {},
   "outputs": [
    {
     "name": "stdout",
     "output_type": "stream",
     "text": [
      "Score :  0.8\n",
      "Accuracy :  80.0\n",
      "Confusion Matrix :  [[ 5  0]\n",
      " [ 4 11]]\n"
     ]
    }
   ],
   "source": [
    "import pandas as pd\n",
    "import numpy as np\n",
    "from sklearn.model_selection import train_test_split\n",
    "from sklearn.naive_bayes import GaussianNB\n",
    "from sklearn.metrics import confusion_matrix\n",
    "from sklearn import metrics\n",
    "\n",
    "dc = pd.read_csv('prankistons.csv')\n",
    "x = dc.iloc[:,1:-1]\n",
    "y = dc.iloc[:,-1]\n",
    "x_train, x_test, y_train, y_test = train_test_split(x,y,test_size=0.1,random_state=7)\n",
    "\n",
    "nb = GaussianNB()\n",
    "nb.fit(x_train,y_train)\n",
    "y_pred = nb.predict(x_test)\n",
    "\n",
    "print('Score : ',nb.score(x_test,y_test))\n",
    "print('Accuracy : ',metrics.accuracy_score(y_test,y_pred)*100)\n",
    "print('Confusion Matrix : ',metrics.confusion_matrix(y_test,y_pred))\n"
   ]
  },
  {
   "cell_type": "code",
   "execution_count": null,
   "metadata": {},
   "outputs": [],
   "source": []
  }
 ],
 "metadata": {
  "kernelspec": {
   "display_name": "Python 3",
   "language": "python",
   "name": "python3"
  },
  "language_info": {
   "codemirror_mode": {
    "name": "ipython",
    "version": 3
   },
   "file_extension": ".py",
   "mimetype": "text/x-python",
   "name": "python",
   "nbconvert_exporter": "python",
   "pygments_lexer": "ipython3",
   "version": "3.7.9"
  }
 },
 "nbformat": 4,
 "nbformat_minor": 4
}
